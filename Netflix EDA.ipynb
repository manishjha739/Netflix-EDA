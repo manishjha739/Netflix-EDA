{
 "cells": [
  {
   "cell_type": "markdown",
   "id": "ea92d973",
   "metadata": {},
   "source": [
    "# EDA Netflix "
   ]
  },
  {
   "cell_type": "code",
   "execution_count": 1,
   "id": "782cc5a3",
   "metadata": {},
   "outputs": [],
   "source": [
    "import numpy as np\n",
    "import pandas as pd\n",
    "import matplotlib.pyplot as plt\n",
    "import seaborn as sns"
   ]
  },
  {
   "cell_type": "markdown",
   "id": "21fe0862",
   "metadata": {},
   "source": [
    "# Loading Data into DataFrame"
   ]
  },
  {
   "cell_type": "code",
   "execution_count": 2,
   "id": "f9fee22e",
   "metadata": {},
   "outputs": [
    {
     "data": {
      "text/html": [
       "<div>\n",
       "<style scoped>\n",
       "    .dataframe tbody tr th:only-of-type {\n",
       "        vertical-align: middle;\n",
       "    }\n",
       "\n",
       "    .dataframe tbody tr th {\n",
       "        vertical-align: top;\n",
       "    }\n",
       "\n",
       "    .dataframe thead th {\n",
       "        text-align: right;\n",
       "    }\n",
       "</style>\n",
       "<table border=\"1\" class=\"dataframe\">\n",
       "  <thead>\n",
       "    <tr style=\"text-align: right;\">\n",
       "      <th></th>\n",
       "      <th>show_id</th>\n",
       "      <th>type</th>\n",
       "      <th>title</th>\n",
       "      <th>director</th>\n",
       "      <th>cast</th>\n",
       "      <th>country</th>\n",
       "      <th>date_added</th>\n",
       "      <th>release_year</th>\n",
       "      <th>rating</th>\n",
       "      <th>duration</th>\n",
       "      <th>listed_in</th>\n",
       "      <th>description</th>\n",
       "    </tr>\n",
       "  </thead>\n",
       "  <tbody>\n",
       "    <tr>\n",
       "      <th>0</th>\n",
       "      <td>s1</td>\n",
       "      <td>Movie</td>\n",
       "      <td>Dick Johnson Is Dead</td>\n",
       "      <td>Kirsten Johnson</td>\n",
       "      <td>NaN</td>\n",
       "      <td>United States</td>\n",
       "      <td>September 25, 2021</td>\n",
       "      <td>2020</td>\n",
       "      <td>PG-13</td>\n",
       "      <td>90 min</td>\n",
       "      <td>Documentaries</td>\n",
       "      <td>As her father nears the end of his life, filmm...</td>\n",
       "    </tr>\n",
       "    <tr>\n",
       "      <th>1</th>\n",
       "      <td>s2</td>\n",
       "      <td>TV Show</td>\n",
       "      <td>Blood &amp; Water</td>\n",
       "      <td>NaN</td>\n",
       "      <td>Ama Qamata, Khosi Ngema, Gail Mabalane, Thaban...</td>\n",
       "      <td>South Africa</td>\n",
       "      <td>September 24, 2021</td>\n",
       "      <td>2021</td>\n",
       "      <td>TV-MA</td>\n",
       "      <td>2 Seasons</td>\n",
       "      <td>International TV Shows, TV Dramas, TV Mysteries</td>\n",
       "      <td>After crossing paths at a party, a Cape Town t...</td>\n",
       "    </tr>\n",
       "    <tr>\n",
       "      <th>2</th>\n",
       "      <td>s3</td>\n",
       "      <td>TV Show</td>\n",
       "      <td>Ganglands</td>\n",
       "      <td>Julien Leclercq</td>\n",
       "      <td>Sami Bouajila, Tracy Gotoas, Samuel Jouy, Nabi...</td>\n",
       "      <td>NaN</td>\n",
       "      <td>September 24, 2021</td>\n",
       "      <td>2021</td>\n",
       "      <td>TV-MA</td>\n",
       "      <td>1 Season</td>\n",
       "      <td>Crime TV Shows, International TV Shows, TV Act...</td>\n",
       "      <td>To protect his family from a powerful drug lor...</td>\n",
       "    </tr>\n",
       "    <tr>\n",
       "      <th>3</th>\n",
       "      <td>s4</td>\n",
       "      <td>TV Show</td>\n",
       "      <td>Jailbirds New Orleans</td>\n",
       "      <td>NaN</td>\n",
       "      <td>NaN</td>\n",
       "      <td>NaN</td>\n",
       "      <td>September 24, 2021</td>\n",
       "      <td>2021</td>\n",
       "      <td>TV-MA</td>\n",
       "      <td>1 Season</td>\n",
       "      <td>Docuseries, Reality TV</td>\n",
       "      <td>Feuds, flirtations and toilet talk go down amo...</td>\n",
       "    </tr>\n",
       "    <tr>\n",
       "      <th>4</th>\n",
       "      <td>s5</td>\n",
       "      <td>TV Show</td>\n",
       "      <td>Kota Factory</td>\n",
       "      <td>NaN</td>\n",
       "      <td>Mayur More, Jitendra Kumar, Ranjan Raj, Alam K...</td>\n",
       "      <td>India</td>\n",
       "      <td>September 24, 2021</td>\n",
       "      <td>2021</td>\n",
       "      <td>TV-MA</td>\n",
       "      <td>2 Seasons</td>\n",
       "      <td>International TV Shows, Romantic TV Shows, TV ...</td>\n",
       "      <td>In a city of coaching centers known to train I...</td>\n",
       "    </tr>\n",
       "  </tbody>\n",
       "</table>\n",
       "</div>"
      ],
      "text/plain": [
       "  show_id     type                  title         director  \\\n",
       "0      s1    Movie   Dick Johnson Is Dead  Kirsten Johnson   \n",
       "1      s2  TV Show          Blood & Water              NaN   \n",
       "2      s3  TV Show              Ganglands  Julien Leclercq   \n",
       "3      s4  TV Show  Jailbirds New Orleans              NaN   \n",
       "4      s5  TV Show           Kota Factory              NaN   \n",
       "\n",
       "                                                cast        country  \\\n",
       "0                                                NaN  United States   \n",
       "1  Ama Qamata, Khosi Ngema, Gail Mabalane, Thaban...   South Africa   \n",
       "2  Sami Bouajila, Tracy Gotoas, Samuel Jouy, Nabi...            NaN   \n",
       "3                                                NaN            NaN   \n",
       "4  Mayur More, Jitendra Kumar, Ranjan Raj, Alam K...          India   \n",
       "\n",
       "           date_added  release_year rating   duration  \\\n",
       "0  September 25, 2021          2020  PG-13     90 min   \n",
       "1  September 24, 2021          2021  TV-MA  2 Seasons   \n",
       "2  September 24, 2021          2021  TV-MA   1 Season   \n",
       "3  September 24, 2021          2021  TV-MA   1 Season   \n",
       "4  September 24, 2021          2021  TV-MA  2 Seasons   \n",
       "\n",
       "                                           listed_in  \\\n",
       "0                                      Documentaries   \n",
       "1    International TV Shows, TV Dramas, TV Mysteries   \n",
       "2  Crime TV Shows, International TV Shows, TV Act...   \n",
       "3                             Docuseries, Reality TV   \n",
       "4  International TV Shows, Romantic TV Shows, TV ...   \n",
       "\n",
       "                                         description  \n",
       "0  As her father nears the end of his life, filmm...  \n",
       "1  After crossing paths at a party, a Cape Town t...  \n",
       "2  To protect his family from a powerful drug lor...  \n",
       "3  Feuds, flirtations and toilet talk go down amo...  \n",
       "4  In a city of coaching centers known to train I...  "
      ]
     },
     "execution_count": 2,
     "metadata": {},
     "output_type": "execute_result"
    }
   ],
   "source": [
    "df = pd.read_csv('netflix.csv')\n",
    "df.head()"
   ]
  },
  {
   "cell_type": "markdown",
   "id": "a0bd3203",
   "metadata": {},
   "source": [
    "# Checking shape and data types of columns of dataframe"
   ]
  },
  {
   "cell_type": "code",
   "execution_count": 5,
   "id": "f92c7709",
   "metadata": {},
   "outputs": [
    {
     "data": {
      "text/plain": [
       "(8807, 12)"
      ]
     },
     "execution_count": 5,
     "metadata": {},
     "output_type": "execute_result"
    }
   ],
   "source": [
    "df.shape"
   ]
  },
  {
   "cell_type": "code",
   "execution_count": 6,
   "id": "7b299d0c",
   "metadata": {},
   "outputs": [
    {
     "name": "stdout",
     "output_type": "stream",
     "text": [
      "<class 'pandas.core.frame.DataFrame'>\n",
      "RangeIndex: 8807 entries, 0 to 8806\n",
      "Data columns (total 12 columns):\n",
      " #   Column        Non-Null Count  Dtype \n",
      "---  ------        --------------  ----- \n",
      " 0   show_id       8807 non-null   object\n",
      " 1   type          8807 non-null   object\n",
      " 2   title         8807 non-null   object\n",
      " 3   director      6173 non-null   object\n",
      " 4   cast          7982 non-null   object\n",
      " 5   country       7976 non-null   object\n",
      " 6   date_added    8797 non-null   object\n",
      " 7   release_year  8807 non-null   int64 \n",
      " 8   rating        8803 non-null   object\n",
      " 9   duration      8804 non-null   object\n",
      " 10  listed_in     8807 non-null   object\n",
      " 11  description   8807 non-null   object\n",
      "dtypes: int64(1), object(11)\n",
      "memory usage: 825.8+ KB\n"
     ]
    }
   ],
   "source": [
    "df.info()"
   ]
  },
  {
   "cell_type": "markdown",
   "id": "2aa11655",
   "metadata": {},
   "source": [
    "# Spliting and Stacking Cast column"
   ]
  },
  {
   "cell_type": "code",
   "execution_count": 3,
   "id": "b2f0d372",
   "metadata": {},
   "outputs": [],
   "source": [
    "dummy =df['cast'].apply(lambda x:str(x).split(',')).tolist()\n",
    "df_new = pd.DataFrame(dummy,index = df['title'])\n",
    "df_new = df_new.stack()\n",
    "df_new = pd.DataFrame(df_new)\n",
    "df_new.reset_index(inplace = True)\n",
    "df_new = df_new[['title',0]]\n",
    "df_new.columns = ['title','Cast']"
   ]
  },
  {
   "cell_type": "code",
   "execution_count": 7,
   "id": "138c4a63",
   "metadata": {},
   "outputs": [
    {
     "data": {
      "text/html": [
       "<div>\n",
       "<style scoped>\n",
       "    .dataframe tbody tr th:only-of-type {\n",
       "        vertical-align: middle;\n",
       "    }\n",
       "\n",
       "    .dataframe tbody tr th {\n",
       "        vertical-align: top;\n",
       "    }\n",
       "\n",
       "    .dataframe thead th {\n",
       "        text-align: right;\n",
       "    }\n",
       "</style>\n",
       "<table border=\"1\" class=\"dataframe\">\n",
       "  <thead>\n",
       "    <tr style=\"text-align: right;\">\n",
       "      <th></th>\n",
       "      <th>title</th>\n",
       "      <th>Cast</th>\n",
       "    </tr>\n",
       "  </thead>\n",
       "  <tbody>\n",
       "    <tr>\n",
       "      <th>0</th>\n",
       "      <td>Dick Johnson Is Dead</td>\n",
       "      <td>nan</td>\n",
       "    </tr>\n",
       "    <tr>\n",
       "      <th>1</th>\n",
       "      <td>Blood &amp; Water</td>\n",
       "      <td>Ama Qamata</td>\n",
       "    </tr>\n",
       "    <tr>\n",
       "      <th>2</th>\n",
       "      <td>Blood &amp; Water</td>\n",
       "      <td>Khosi Ngema</td>\n",
       "    </tr>\n",
       "    <tr>\n",
       "      <th>3</th>\n",
       "      <td>Blood &amp; Water</td>\n",
       "      <td>Gail Mabalane</td>\n",
       "    </tr>\n",
       "    <tr>\n",
       "      <th>4</th>\n",
       "      <td>Blood &amp; Water</td>\n",
       "      <td>Thabang Molaba</td>\n",
       "    </tr>\n",
       "  </tbody>\n",
       "</table>\n",
       "</div>"
      ],
      "text/plain": [
       "                  title             Cast\n",
       "0  Dick Johnson Is Dead              nan\n",
       "1         Blood & Water       Ama Qamata\n",
       "2         Blood & Water      Khosi Ngema\n",
       "3         Blood & Water    Gail Mabalane\n",
       "4         Blood & Water   Thabang Molaba"
      ]
     },
     "execution_count": 7,
     "metadata": {},
     "output_type": "execute_result"
    }
   ],
   "source": [
    "df_new.head()"
   ]
  },
  {
   "cell_type": "markdown",
   "id": "6a165cf0",
   "metadata": {},
   "source": [
    "# Spliting and Stacking director column"
   ]
  },
  {
   "cell_type": "code",
   "execution_count": 8,
   "id": "75478d10",
   "metadata": {},
   "outputs": [],
   "source": [
    "directors =df['director'].apply(lambda x:str(x).split(',')).tolist()\n",
    "df_director = pd.DataFrame(directors,index = df['title'])\n",
    "df_director = df_director.stack()\n",
    "df_director = pd.DataFrame(df_director)\n",
    "df_director.reset_index(inplace = True)\n",
    "df_director = df_director[['title',0]]\n",
    "df_director.columns = ['title','Director']"
   ]
  },
  {
   "cell_type": "code",
   "execution_count": 10,
   "id": "da33ef95",
   "metadata": {},
   "outputs": [
    {
     "data": {
      "text/html": [
       "<div>\n",
       "<style scoped>\n",
       "    .dataframe tbody tr th:only-of-type {\n",
       "        vertical-align: middle;\n",
       "    }\n",
       "\n",
       "    .dataframe tbody tr th {\n",
       "        vertical-align: top;\n",
       "    }\n",
       "\n",
       "    .dataframe thead th {\n",
       "        text-align: right;\n",
       "    }\n",
       "</style>\n",
       "<table border=\"1\" class=\"dataframe\">\n",
       "  <thead>\n",
       "    <tr style=\"text-align: right;\">\n",
       "      <th></th>\n",
       "      <th>title</th>\n",
       "      <th>Director</th>\n",
       "    </tr>\n",
       "  </thead>\n",
       "  <tbody>\n",
       "    <tr>\n",
       "      <th>0</th>\n",
       "      <td>Dick Johnson Is Dead</td>\n",
       "      <td>Kirsten Johnson</td>\n",
       "    </tr>\n",
       "    <tr>\n",
       "      <th>1</th>\n",
       "      <td>Blood &amp; Water</td>\n",
       "      <td>nan</td>\n",
       "    </tr>\n",
       "    <tr>\n",
       "      <th>2</th>\n",
       "      <td>Ganglands</td>\n",
       "      <td>Julien Leclercq</td>\n",
       "    </tr>\n",
       "    <tr>\n",
       "      <th>3</th>\n",
       "      <td>Jailbirds New Orleans</td>\n",
       "      <td>nan</td>\n",
       "    </tr>\n",
       "    <tr>\n",
       "      <th>4</th>\n",
       "      <td>Kota Factory</td>\n",
       "      <td>nan</td>\n",
       "    </tr>\n",
       "    <tr>\n",
       "      <th>5</th>\n",
       "      <td>Midnight Mass</td>\n",
       "      <td>Mike Flanagan</td>\n",
       "    </tr>\n",
       "    <tr>\n",
       "      <th>6</th>\n",
       "      <td>My Little Pony: A New Generation</td>\n",
       "      <td>Robert Cullen</td>\n",
       "    </tr>\n",
       "    <tr>\n",
       "      <th>7</th>\n",
       "      <td>My Little Pony: A New Generation</td>\n",
       "      <td>José Luis Ucha</td>\n",
       "    </tr>\n",
       "    <tr>\n",
       "      <th>8</th>\n",
       "      <td>Sankofa</td>\n",
       "      <td>Haile Gerima</td>\n",
       "    </tr>\n",
       "    <tr>\n",
       "      <th>9</th>\n",
       "      <td>The Great British Baking Show</td>\n",
       "      <td>Andy Devonshire</td>\n",
       "    </tr>\n",
       "  </tbody>\n",
       "</table>\n",
       "</div>"
      ],
      "text/plain": [
       "                              title         Director\n",
       "0              Dick Johnson Is Dead  Kirsten Johnson\n",
       "1                     Blood & Water              nan\n",
       "2                         Ganglands  Julien Leclercq\n",
       "3             Jailbirds New Orleans              nan\n",
       "4                      Kota Factory              nan\n",
       "5                     Midnight Mass    Mike Flanagan\n",
       "6  My Little Pony: A New Generation    Robert Cullen\n",
       "7  My Little Pony: A New Generation   José Luis Ucha\n",
       "8                           Sankofa     Haile Gerima\n",
       "9     The Great British Baking Show  Andy Devonshire"
      ]
     },
     "execution_count": 10,
     "metadata": {},
     "output_type": "execute_result"
    }
   ],
   "source": [
    "df_director.head(10)"
   ]
  },
  {
   "cell_type": "markdown",
   "id": "befe0f2b",
   "metadata": {},
   "source": [
    "# Spliting and Stacking listed_in column"
   ]
  },
  {
   "cell_type": "code",
   "execution_count": 11,
   "id": "b96f3057",
   "metadata": {},
   "outputs": [],
   "source": [
    "lists =df['listed_in'].apply(lambda x:str(x).split(',')).tolist()\n",
    "df_list = pd.DataFrame(lists,index = df['title'])\n",
    "df_list = df_list.stack()\n",
    "df_list = pd.DataFrame(df_list)\n",
    "df_list.reset_index(inplace = True)\n",
    "df_list = df_list[['title',0]]\n",
    "df_list.columns = ['title','Listed_in']"
   ]
  },
  {
   "cell_type": "code",
   "execution_count": 12,
   "id": "2860fb3a",
   "metadata": {},
   "outputs": [
    {
     "data": {
      "text/html": [
       "<div>\n",
       "<style scoped>\n",
       "    .dataframe tbody tr th:only-of-type {\n",
       "        vertical-align: middle;\n",
       "    }\n",
       "\n",
       "    .dataframe tbody tr th {\n",
       "        vertical-align: top;\n",
       "    }\n",
       "\n",
       "    .dataframe thead th {\n",
       "        text-align: right;\n",
       "    }\n",
       "</style>\n",
       "<table border=\"1\" class=\"dataframe\">\n",
       "  <thead>\n",
       "    <tr style=\"text-align: right;\">\n",
       "      <th></th>\n",
       "      <th>title</th>\n",
       "      <th>Listed_in</th>\n",
       "    </tr>\n",
       "  </thead>\n",
       "  <tbody>\n",
       "    <tr>\n",
       "      <th>0</th>\n",
       "      <td>Dick Johnson Is Dead</td>\n",
       "      <td>Documentaries</td>\n",
       "    </tr>\n",
       "    <tr>\n",
       "      <th>1</th>\n",
       "      <td>Blood &amp; Water</td>\n",
       "      <td>International TV Shows</td>\n",
       "    </tr>\n",
       "    <tr>\n",
       "      <th>2</th>\n",
       "      <td>Blood &amp; Water</td>\n",
       "      <td>TV Dramas</td>\n",
       "    </tr>\n",
       "    <tr>\n",
       "      <th>3</th>\n",
       "      <td>Blood &amp; Water</td>\n",
       "      <td>TV Mysteries</td>\n",
       "    </tr>\n",
       "    <tr>\n",
       "      <th>4</th>\n",
       "      <td>Ganglands</td>\n",
       "      <td>Crime TV Shows</td>\n",
       "    </tr>\n",
       "    <tr>\n",
       "      <th>5</th>\n",
       "      <td>Ganglands</td>\n",
       "      <td>International TV Shows</td>\n",
       "    </tr>\n",
       "    <tr>\n",
       "      <th>6</th>\n",
       "      <td>Ganglands</td>\n",
       "      <td>TV Action &amp; Adventure</td>\n",
       "    </tr>\n",
       "    <tr>\n",
       "      <th>7</th>\n",
       "      <td>Jailbirds New Orleans</td>\n",
       "      <td>Docuseries</td>\n",
       "    </tr>\n",
       "    <tr>\n",
       "      <th>8</th>\n",
       "      <td>Jailbirds New Orleans</td>\n",
       "      <td>Reality TV</td>\n",
       "    </tr>\n",
       "    <tr>\n",
       "      <th>9</th>\n",
       "      <td>Kota Factory</td>\n",
       "      <td>International TV Shows</td>\n",
       "    </tr>\n",
       "  </tbody>\n",
       "</table>\n",
       "</div>"
      ],
      "text/plain": [
       "                   title                Listed_in\n",
       "0   Dick Johnson Is Dead            Documentaries\n",
       "1          Blood & Water   International TV Shows\n",
       "2          Blood & Water                TV Dramas\n",
       "3          Blood & Water             TV Mysteries\n",
       "4              Ganglands           Crime TV Shows\n",
       "5              Ganglands   International TV Shows\n",
       "6              Ganglands    TV Action & Adventure\n",
       "7  Jailbirds New Orleans               Docuseries\n",
       "8  Jailbirds New Orleans               Reality TV\n",
       "9           Kota Factory   International TV Shows"
      ]
     },
     "execution_count": 12,
     "metadata": {},
     "output_type": "execute_result"
    }
   ],
   "source": [
    "df_list.head(10)"
   ]
  },
  {
   "cell_type": "markdown",
   "id": "912eb7cc",
   "metadata": {},
   "source": [
    "# Spliting and Stacking country column"
   ]
  },
  {
   "cell_type": "code",
   "execution_count": 13,
   "id": "90edcb4d",
   "metadata": {},
   "outputs": [],
   "source": [
    "lists =df['country'].apply(lambda x:str(x).split(',')).tolist()\n",
    "df_country = pd.DataFrame(lists,index = df['title'])\n",
    "df_country = df_country.stack()\n",
    "df_country = pd.DataFrame(df_country)\n",
    "df_country.reset_index(inplace = True)\n",
    "df_country = df_country[['title',0]]\n",
    "df_country.columns = ['title','country']"
   ]
  },
  {
   "cell_type": "code",
   "execution_count": 14,
   "id": "ea393b52",
   "metadata": {},
   "outputs": [
    {
     "data": {
      "text/html": [
       "<div>\n",
       "<style scoped>\n",
       "    .dataframe tbody tr th:only-of-type {\n",
       "        vertical-align: middle;\n",
       "    }\n",
       "\n",
       "    .dataframe tbody tr th {\n",
       "        vertical-align: top;\n",
       "    }\n",
       "\n",
       "    .dataframe thead th {\n",
       "        text-align: right;\n",
       "    }\n",
       "</style>\n",
       "<table border=\"1\" class=\"dataframe\">\n",
       "  <thead>\n",
       "    <tr style=\"text-align: right;\">\n",
       "      <th></th>\n",
       "      <th>title</th>\n",
       "      <th>country</th>\n",
       "    </tr>\n",
       "  </thead>\n",
       "  <tbody>\n",
       "    <tr>\n",
       "      <th>0</th>\n",
       "      <td>Dick Johnson Is Dead</td>\n",
       "      <td>United States</td>\n",
       "    </tr>\n",
       "    <tr>\n",
       "      <th>1</th>\n",
       "      <td>Blood &amp; Water</td>\n",
       "      <td>South Africa</td>\n",
       "    </tr>\n",
       "    <tr>\n",
       "      <th>2</th>\n",
       "      <td>Ganglands</td>\n",
       "      <td>nan</td>\n",
       "    </tr>\n",
       "    <tr>\n",
       "      <th>3</th>\n",
       "      <td>Jailbirds New Orleans</td>\n",
       "      <td>nan</td>\n",
       "    </tr>\n",
       "    <tr>\n",
       "      <th>4</th>\n",
       "      <td>Kota Factory</td>\n",
       "      <td>India</td>\n",
       "    </tr>\n",
       "    <tr>\n",
       "      <th>5</th>\n",
       "      <td>Midnight Mass</td>\n",
       "      <td>nan</td>\n",
       "    </tr>\n",
       "    <tr>\n",
       "      <th>6</th>\n",
       "      <td>My Little Pony: A New Generation</td>\n",
       "      <td>nan</td>\n",
       "    </tr>\n",
       "    <tr>\n",
       "      <th>7</th>\n",
       "      <td>Sankofa</td>\n",
       "      <td>United States</td>\n",
       "    </tr>\n",
       "    <tr>\n",
       "      <th>8</th>\n",
       "      <td>Sankofa</td>\n",
       "      <td>Ghana</td>\n",
       "    </tr>\n",
       "    <tr>\n",
       "      <th>9</th>\n",
       "      <td>Sankofa</td>\n",
       "      <td>Burkina Faso</td>\n",
       "    </tr>\n",
       "  </tbody>\n",
       "</table>\n",
       "</div>"
      ],
      "text/plain": [
       "                              title        country\n",
       "0              Dick Johnson Is Dead  United States\n",
       "1                     Blood & Water   South Africa\n",
       "2                         Ganglands            nan\n",
       "3             Jailbirds New Orleans            nan\n",
       "4                      Kota Factory          India\n",
       "5                     Midnight Mass            nan\n",
       "6  My Little Pony: A New Generation            nan\n",
       "7                           Sankofa  United States\n",
       "8                           Sankofa          Ghana\n",
       "9                           Sankofa   Burkina Faso"
      ]
     },
     "execution_count": 14,
     "metadata": {},
     "output_type": "execute_result"
    }
   ],
   "source": [
    "df_country.head(10)"
   ]
  },
  {
   "cell_type": "markdown",
   "id": "e5ad5fe1",
   "metadata": {},
   "source": [
    "# Merging df_new and df_director"
   ]
  },
  {
   "cell_type": "code",
   "execution_count": 15,
   "id": "20fba386",
   "metadata": {},
   "outputs": [],
   "source": [
    "df_final = pd.merge(df_new,df_director,on = 'title')"
   ]
  },
  {
   "cell_type": "markdown",
   "id": "3011a49d",
   "metadata": {},
   "source": [
    "# Merging df_list and df_final\n",
    "# Merging df_country and df_final\n",
    "# Merging df_final with origional dataset to get out final Dataframe"
   ]
  },
  {
   "cell_type": "code",
   "execution_count": 16,
   "id": "3003311a",
   "metadata": {},
   "outputs": [],
   "source": [
    "df_final = pd.merge(df_final,df_list,on = 'title')\n",
    "df_final = pd.merge(df_final,df_country,on = 'title')\n",
    "df_final = pd.merge(df,df_final,on='title')"
   ]
  },
  {
   "cell_type": "markdown",
   "id": "46ed76fc",
   "metadata": {},
   "source": [
    "# Reading final dataframe and cheking columns"
   ]
  },
  {
   "cell_type": "code",
   "execution_count": 17,
   "id": "28cbc7ae",
   "metadata": {},
   "outputs": [
    {
     "data": {
      "text/html": [
       "<div>\n",
       "<style scoped>\n",
       "    .dataframe tbody tr th:only-of-type {\n",
       "        vertical-align: middle;\n",
       "    }\n",
       "\n",
       "    .dataframe tbody tr th {\n",
       "        vertical-align: top;\n",
       "    }\n",
       "\n",
       "    .dataframe thead th {\n",
       "        text-align: right;\n",
       "    }\n",
       "</style>\n",
       "<table border=\"1\" class=\"dataframe\">\n",
       "  <thead>\n",
       "    <tr style=\"text-align: right;\">\n",
       "      <th></th>\n",
       "      <th>show_id</th>\n",
       "      <th>type</th>\n",
       "      <th>title</th>\n",
       "      <th>director</th>\n",
       "      <th>cast</th>\n",
       "      <th>country_x</th>\n",
       "      <th>date_added</th>\n",
       "      <th>release_year</th>\n",
       "      <th>rating</th>\n",
       "      <th>duration</th>\n",
       "      <th>listed_in</th>\n",
       "      <th>description</th>\n",
       "      <th>Cast</th>\n",
       "      <th>Director</th>\n",
       "      <th>Listed_in</th>\n",
       "      <th>country_y</th>\n",
       "    </tr>\n",
       "  </thead>\n",
       "  <tbody>\n",
       "    <tr>\n",
       "      <th>0</th>\n",
       "      <td>s1</td>\n",
       "      <td>Movie</td>\n",
       "      <td>Dick Johnson Is Dead</td>\n",
       "      <td>Kirsten Johnson</td>\n",
       "      <td>NaN</td>\n",
       "      <td>United States</td>\n",
       "      <td>September 25, 2021</td>\n",
       "      <td>2020</td>\n",
       "      <td>PG-13</td>\n",
       "      <td>90 min</td>\n",
       "      <td>Documentaries</td>\n",
       "      <td>As her father nears the end of his life, filmm...</td>\n",
       "      <td>nan</td>\n",
       "      <td>Kirsten Johnson</td>\n",
       "      <td>Documentaries</td>\n",
       "      <td>United States</td>\n",
       "    </tr>\n",
       "    <tr>\n",
       "      <th>1</th>\n",
       "      <td>s2</td>\n",
       "      <td>TV Show</td>\n",
       "      <td>Blood &amp; Water</td>\n",
       "      <td>NaN</td>\n",
       "      <td>Ama Qamata, Khosi Ngema, Gail Mabalane, Thaban...</td>\n",
       "      <td>South Africa</td>\n",
       "      <td>September 24, 2021</td>\n",
       "      <td>2021</td>\n",
       "      <td>TV-MA</td>\n",
       "      <td>2 Seasons</td>\n",
       "      <td>International TV Shows, TV Dramas, TV Mysteries</td>\n",
       "      <td>After crossing paths at a party, a Cape Town t...</td>\n",
       "      <td>Ama Qamata</td>\n",
       "      <td>nan</td>\n",
       "      <td>International TV Shows</td>\n",
       "      <td>South Africa</td>\n",
       "    </tr>\n",
       "    <tr>\n",
       "      <th>2</th>\n",
       "      <td>s2</td>\n",
       "      <td>TV Show</td>\n",
       "      <td>Blood &amp; Water</td>\n",
       "      <td>NaN</td>\n",
       "      <td>Ama Qamata, Khosi Ngema, Gail Mabalane, Thaban...</td>\n",
       "      <td>South Africa</td>\n",
       "      <td>September 24, 2021</td>\n",
       "      <td>2021</td>\n",
       "      <td>TV-MA</td>\n",
       "      <td>2 Seasons</td>\n",
       "      <td>International TV Shows, TV Dramas, TV Mysteries</td>\n",
       "      <td>After crossing paths at a party, a Cape Town t...</td>\n",
       "      <td>Ama Qamata</td>\n",
       "      <td>nan</td>\n",
       "      <td>TV Dramas</td>\n",
       "      <td>South Africa</td>\n",
       "    </tr>\n",
       "    <tr>\n",
       "      <th>3</th>\n",
       "      <td>s2</td>\n",
       "      <td>TV Show</td>\n",
       "      <td>Blood &amp; Water</td>\n",
       "      <td>NaN</td>\n",
       "      <td>Ama Qamata, Khosi Ngema, Gail Mabalane, Thaban...</td>\n",
       "      <td>South Africa</td>\n",
       "      <td>September 24, 2021</td>\n",
       "      <td>2021</td>\n",
       "      <td>TV-MA</td>\n",
       "      <td>2 Seasons</td>\n",
       "      <td>International TV Shows, TV Dramas, TV Mysteries</td>\n",
       "      <td>After crossing paths at a party, a Cape Town t...</td>\n",
       "      <td>Ama Qamata</td>\n",
       "      <td>nan</td>\n",
       "      <td>TV Mysteries</td>\n",
       "      <td>South Africa</td>\n",
       "    </tr>\n",
       "    <tr>\n",
       "      <th>4</th>\n",
       "      <td>s2</td>\n",
       "      <td>TV Show</td>\n",
       "      <td>Blood &amp; Water</td>\n",
       "      <td>NaN</td>\n",
       "      <td>Ama Qamata, Khosi Ngema, Gail Mabalane, Thaban...</td>\n",
       "      <td>South Africa</td>\n",
       "      <td>September 24, 2021</td>\n",
       "      <td>2021</td>\n",
       "      <td>TV-MA</td>\n",
       "      <td>2 Seasons</td>\n",
       "      <td>International TV Shows, TV Dramas, TV Mysteries</td>\n",
       "      <td>After crossing paths at a party, a Cape Town t...</td>\n",
       "      <td>Khosi Ngema</td>\n",
       "      <td>nan</td>\n",
       "      <td>International TV Shows</td>\n",
       "      <td>South Africa</td>\n",
       "    </tr>\n",
       "    <tr>\n",
       "      <th>5</th>\n",
       "      <td>s2</td>\n",
       "      <td>TV Show</td>\n",
       "      <td>Blood &amp; Water</td>\n",
       "      <td>NaN</td>\n",
       "      <td>Ama Qamata, Khosi Ngema, Gail Mabalane, Thaban...</td>\n",
       "      <td>South Africa</td>\n",
       "      <td>September 24, 2021</td>\n",
       "      <td>2021</td>\n",
       "      <td>TV-MA</td>\n",
       "      <td>2 Seasons</td>\n",
       "      <td>International TV Shows, TV Dramas, TV Mysteries</td>\n",
       "      <td>After crossing paths at a party, a Cape Town t...</td>\n",
       "      <td>Khosi Ngema</td>\n",
       "      <td>nan</td>\n",
       "      <td>TV Dramas</td>\n",
       "      <td>South Africa</td>\n",
       "    </tr>\n",
       "    <tr>\n",
       "      <th>6</th>\n",
       "      <td>s2</td>\n",
       "      <td>TV Show</td>\n",
       "      <td>Blood &amp; Water</td>\n",
       "      <td>NaN</td>\n",
       "      <td>Ama Qamata, Khosi Ngema, Gail Mabalane, Thaban...</td>\n",
       "      <td>South Africa</td>\n",
       "      <td>September 24, 2021</td>\n",
       "      <td>2021</td>\n",
       "      <td>TV-MA</td>\n",
       "      <td>2 Seasons</td>\n",
       "      <td>International TV Shows, TV Dramas, TV Mysteries</td>\n",
       "      <td>After crossing paths at a party, a Cape Town t...</td>\n",
       "      <td>Khosi Ngema</td>\n",
       "      <td>nan</td>\n",
       "      <td>TV Mysteries</td>\n",
       "      <td>South Africa</td>\n",
       "    </tr>\n",
       "    <tr>\n",
       "      <th>7</th>\n",
       "      <td>s2</td>\n",
       "      <td>TV Show</td>\n",
       "      <td>Blood &amp; Water</td>\n",
       "      <td>NaN</td>\n",
       "      <td>Ama Qamata, Khosi Ngema, Gail Mabalane, Thaban...</td>\n",
       "      <td>South Africa</td>\n",
       "      <td>September 24, 2021</td>\n",
       "      <td>2021</td>\n",
       "      <td>TV-MA</td>\n",
       "      <td>2 Seasons</td>\n",
       "      <td>International TV Shows, TV Dramas, TV Mysteries</td>\n",
       "      <td>After crossing paths at a party, a Cape Town t...</td>\n",
       "      <td>Gail Mabalane</td>\n",
       "      <td>nan</td>\n",
       "      <td>International TV Shows</td>\n",
       "      <td>South Africa</td>\n",
       "    </tr>\n",
       "    <tr>\n",
       "      <th>8</th>\n",
       "      <td>s2</td>\n",
       "      <td>TV Show</td>\n",
       "      <td>Blood &amp; Water</td>\n",
       "      <td>NaN</td>\n",
       "      <td>Ama Qamata, Khosi Ngema, Gail Mabalane, Thaban...</td>\n",
       "      <td>South Africa</td>\n",
       "      <td>September 24, 2021</td>\n",
       "      <td>2021</td>\n",
       "      <td>TV-MA</td>\n",
       "      <td>2 Seasons</td>\n",
       "      <td>International TV Shows, TV Dramas, TV Mysteries</td>\n",
       "      <td>After crossing paths at a party, a Cape Town t...</td>\n",
       "      <td>Gail Mabalane</td>\n",
       "      <td>nan</td>\n",
       "      <td>TV Dramas</td>\n",
       "      <td>South Africa</td>\n",
       "    </tr>\n",
       "    <tr>\n",
       "      <th>9</th>\n",
       "      <td>s2</td>\n",
       "      <td>TV Show</td>\n",
       "      <td>Blood &amp; Water</td>\n",
       "      <td>NaN</td>\n",
       "      <td>Ama Qamata, Khosi Ngema, Gail Mabalane, Thaban...</td>\n",
       "      <td>South Africa</td>\n",
       "      <td>September 24, 2021</td>\n",
       "      <td>2021</td>\n",
       "      <td>TV-MA</td>\n",
       "      <td>2 Seasons</td>\n",
       "      <td>International TV Shows, TV Dramas, TV Mysteries</td>\n",
       "      <td>After crossing paths at a party, a Cape Town t...</td>\n",
       "      <td>Gail Mabalane</td>\n",
       "      <td>nan</td>\n",
       "      <td>TV Mysteries</td>\n",
       "      <td>South Africa</td>\n",
       "    </tr>\n",
       "  </tbody>\n",
       "</table>\n",
       "</div>"
      ],
      "text/plain": [
       "  show_id     type                 title         director  \\\n",
       "0      s1    Movie  Dick Johnson Is Dead  Kirsten Johnson   \n",
       "1      s2  TV Show         Blood & Water              NaN   \n",
       "2      s2  TV Show         Blood & Water              NaN   \n",
       "3      s2  TV Show         Blood & Water              NaN   \n",
       "4      s2  TV Show         Blood & Water              NaN   \n",
       "5      s2  TV Show         Blood & Water              NaN   \n",
       "6      s2  TV Show         Blood & Water              NaN   \n",
       "7      s2  TV Show         Blood & Water              NaN   \n",
       "8      s2  TV Show         Blood & Water              NaN   \n",
       "9      s2  TV Show         Blood & Water              NaN   \n",
       "\n",
       "                                                cast      country_x  \\\n",
       "0                                                NaN  United States   \n",
       "1  Ama Qamata, Khosi Ngema, Gail Mabalane, Thaban...   South Africa   \n",
       "2  Ama Qamata, Khosi Ngema, Gail Mabalane, Thaban...   South Africa   \n",
       "3  Ama Qamata, Khosi Ngema, Gail Mabalane, Thaban...   South Africa   \n",
       "4  Ama Qamata, Khosi Ngema, Gail Mabalane, Thaban...   South Africa   \n",
       "5  Ama Qamata, Khosi Ngema, Gail Mabalane, Thaban...   South Africa   \n",
       "6  Ama Qamata, Khosi Ngema, Gail Mabalane, Thaban...   South Africa   \n",
       "7  Ama Qamata, Khosi Ngema, Gail Mabalane, Thaban...   South Africa   \n",
       "8  Ama Qamata, Khosi Ngema, Gail Mabalane, Thaban...   South Africa   \n",
       "9  Ama Qamata, Khosi Ngema, Gail Mabalane, Thaban...   South Africa   \n",
       "\n",
       "           date_added  release_year rating   duration  \\\n",
       "0  September 25, 2021          2020  PG-13     90 min   \n",
       "1  September 24, 2021          2021  TV-MA  2 Seasons   \n",
       "2  September 24, 2021          2021  TV-MA  2 Seasons   \n",
       "3  September 24, 2021          2021  TV-MA  2 Seasons   \n",
       "4  September 24, 2021          2021  TV-MA  2 Seasons   \n",
       "5  September 24, 2021          2021  TV-MA  2 Seasons   \n",
       "6  September 24, 2021          2021  TV-MA  2 Seasons   \n",
       "7  September 24, 2021          2021  TV-MA  2 Seasons   \n",
       "8  September 24, 2021          2021  TV-MA  2 Seasons   \n",
       "9  September 24, 2021          2021  TV-MA  2 Seasons   \n",
       "\n",
       "                                         listed_in  \\\n",
       "0                                    Documentaries   \n",
       "1  International TV Shows, TV Dramas, TV Mysteries   \n",
       "2  International TV Shows, TV Dramas, TV Mysteries   \n",
       "3  International TV Shows, TV Dramas, TV Mysteries   \n",
       "4  International TV Shows, TV Dramas, TV Mysteries   \n",
       "5  International TV Shows, TV Dramas, TV Mysteries   \n",
       "6  International TV Shows, TV Dramas, TV Mysteries   \n",
       "7  International TV Shows, TV Dramas, TV Mysteries   \n",
       "8  International TV Shows, TV Dramas, TV Mysteries   \n",
       "9  International TV Shows, TV Dramas, TV Mysteries   \n",
       "\n",
       "                                         description            Cast  \\\n",
       "0  As her father nears the end of his life, filmm...             nan   \n",
       "1  After crossing paths at a party, a Cape Town t...      Ama Qamata   \n",
       "2  After crossing paths at a party, a Cape Town t...      Ama Qamata   \n",
       "3  After crossing paths at a party, a Cape Town t...      Ama Qamata   \n",
       "4  After crossing paths at a party, a Cape Town t...     Khosi Ngema   \n",
       "5  After crossing paths at a party, a Cape Town t...     Khosi Ngema   \n",
       "6  After crossing paths at a party, a Cape Town t...     Khosi Ngema   \n",
       "7  After crossing paths at a party, a Cape Town t...   Gail Mabalane   \n",
       "8  After crossing paths at a party, a Cape Town t...   Gail Mabalane   \n",
       "9  After crossing paths at a party, a Cape Town t...   Gail Mabalane   \n",
       "\n",
       "          Director               Listed_in      country_y  \n",
       "0  Kirsten Johnson           Documentaries  United States  \n",
       "1              nan  International TV Shows   South Africa  \n",
       "2              nan               TV Dramas   South Africa  \n",
       "3              nan            TV Mysteries   South Africa  \n",
       "4              nan  International TV Shows   South Africa  \n",
       "5              nan               TV Dramas   South Africa  \n",
       "6              nan            TV Mysteries   South Africa  \n",
       "7              nan  International TV Shows   South Africa  \n",
       "8              nan               TV Dramas   South Africa  \n",
       "9              nan            TV Mysteries   South Africa  "
      ]
     },
     "execution_count": 17,
     "metadata": {},
     "output_type": "execute_result"
    }
   ],
   "source": [
    "df_final.head(10)"
   ]
  },
  {
   "cell_type": "code",
   "execution_count": 18,
   "id": "a1069abc",
   "metadata": {},
   "outputs": [
    {
     "data": {
      "text/plain": [
       "Index(['show_id', 'type', 'title', 'director', 'cast', 'country_x',\n",
       "       'date_added', 'release_year', 'rating', 'duration', 'listed_in',\n",
       "       'description', 'Cast', 'Director', 'Listed_in', 'country_y'],\n",
       "      dtype='object')"
      ]
     },
     "execution_count": 18,
     "metadata": {},
     "output_type": "execute_result"
    }
   ],
   "source": [
    "df_final.columns"
   ]
  },
  {
   "cell_type": "markdown",
   "id": "1ceb3db0",
   "metadata": {},
   "source": [
    "# Dropping unwanted columns from DataFrame"
   ]
  },
  {
   "cell_type": "code",
   "execution_count": 19,
   "id": "76c57896",
   "metadata": {},
   "outputs": [],
   "source": [
    "df_final.drop(['show_id','director', 'cast', 'country_x','listed_in','description',],axis = 1,inplace = True)\n",
    "df_final.rename(columns = {'Listed_in':'genre','country_y':'country'},inplace=True)"
   ]
  },
  {
   "cell_type": "code",
   "execution_count": 20,
   "id": "cf1db5aa",
   "metadata": {},
   "outputs": [
    {
     "data": {
      "text/html": [
       "<div>\n",
       "<style scoped>\n",
       "    .dataframe tbody tr th:only-of-type {\n",
       "        vertical-align: middle;\n",
       "    }\n",
       "\n",
       "    .dataframe tbody tr th {\n",
       "        vertical-align: top;\n",
       "    }\n",
       "\n",
       "    .dataframe thead th {\n",
       "        text-align: right;\n",
       "    }\n",
       "</style>\n",
       "<table border=\"1\" class=\"dataframe\">\n",
       "  <thead>\n",
       "    <tr style=\"text-align: right;\">\n",
       "      <th></th>\n",
       "      <th>type</th>\n",
       "      <th>title</th>\n",
       "      <th>date_added</th>\n",
       "      <th>release_year</th>\n",
       "      <th>rating</th>\n",
       "      <th>duration</th>\n",
       "      <th>Cast</th>\n",
       "      <th>Director</th>\n",
       "      <th>genre</th>\n",
       "      <th>country</th>\n",
       "    </tr>\n",
       "  </thead>\n",
       "  <tbody>\n",
       "    <tr>\n",
       "      <th>0</th>\n",
       "      <td>Movie</td>\n",
       "      <td>Dick Johnson Is Dead</td>\n",
       "      <td>September 25, 2021</td>\n",
       "      <td>2020</td>\n",
       "      <td>PG-13</td>\n",
       "      <td>90 min</td>\n",
       "      <td>nan</td>\n",
       "      <td>Kirsten Johnson</td>\n",
       "      <td>Documentaries</td>\n",
       "      <td>United States</td>\n",
       "    </tr>\n",
       "    <tr>\n",
       "      <th>1</th>\n",
       "      <td>TV Show</td>\n",
       "      <td>Blood &amp; Water</td>\n",
       "      <td>September 24, 2021</td>\n",
       "      <td>2021</td>\n",
       "      <td>TV-MA</td>\n",
       "      <td>2 Seasons</td>\n",
       "      <td>Ama Qamata</td>\n",
       "      <td>nan</td>\n",
       "      <td>International TV Shows</td>\n",
       "      <td>South Africa</td>\n",
       "    </tr>\n",
       "    <tr>\n",
       "      <th>2</th>\n",
       "      <td>TV Show</td>\n",
       "      <td>Blood &amp; Water</td>\n",
       "      <td>September 24, 2021</td>\n",
       "      <td>2021</td>\n",
       "      <td>TV-MA</td>\n",
       "      <td>2 Seasons</td>\n",
       "      <td>Ama Qamata</td>\n",
       "      <td>nan</td>\n",
       "      <td>TV Dramas</td>\n",
       "      <td>South Africa</td>\n",
       "    </tr>\n",
       "    <tr>\n",
       "      <th>3</th>\n",
       "      <td>TV Show</td>\n",
       "      <td>Blood &amp; Water</td>\n",
       "      <td>September 24, 2021</td>\n",
       "      <td>2021</td>\n",
       "      <td>TV-MA</td>\n",
       "      <td>2 Seasons</td>\n",
       "      <td>Ama Qamata</td>\n",
       "      <td>nan</td>\n",
       "      <td>TV Mysteries</td>\n",
       "      <td>South Africa</td>\n",
       "    </tr>\n",
       "    <tr>\n",
       "      <th>4</th>\n",
       "      <td>TV Show</td>\n",
       "      <td>Blood &amp; Water</td>\n",
       "      <td>September 24, 2021</td>\n",
       "      <td>2021</td>\n",
       "      <td>TV-MA</td>\n",
       "      <td>2 Seasons</td>\n",
       "      <td>Khosi Ngema</td>\n",
       "      <td>nan</td>\n",
       "      <td>International TV Shows</td>\n",
       "      <td>South Africa</td>\n",
       "    </tr>\n",
       "  </tbody>\n",
       "</table>\n",
       "</div>"
      ],
      "text/plain": [
       "      type                 title          date_added  release_year rating  \\\n",
       "0    Movie  Dick Johnson Is Dead  September 25, 2021          2020  PG-13   \n",
       "1  TV Show         Blood & Water  September 24, 2021          2021  TV-MA   \n",
       "2  TV Show         Blood & Water  September 24, 2021          2021  TV-MA   \n",
       "3  TV Show         Blood & Water  September 24, 2021          2021  TV-MA   \n",
       "4  TV Show         Blood & Water  September 24, 2021          2021  TV-MA   \n",
       "\n",
       "    duration          Cast         Director                   genre  \\\n",
       "0     90 min           nan  Kirsten Johnson           Documentaries   \n",
       "1  2 Seasons    Ama Qamata              nan  International TV Shows   \n",
       "2  2 Seasons    Ama Qamata              nan               TV Dramas   \n",
       "3  2 Seasons    Ama Qamata              nan            TV Mysteries   \n",
       "4  2 Seasons   Khosi Ngema              nan  International TV Shows   \n",
       "\n",
       "         country  \n",
       "0  United States  \n",
       "1   South Africa  \n",
       "2   South Africa  \n",
       "3   South Africa  \n",
       "4   South Africa  "
      ]
     },
     "execution_count": 20,
     "metadata": {},
     "output_type": "execute_result"
    }
   ],
   "source": [
    "df_final.head()"
   ]
  },
  {
   "cell_type": "code",
   "execution_count": 21,
   "id": "4778fc35",
   "metadata": {},
   "outputs": [
    {
     "data": {
      "text/plain": [
       "(202065, 10)"
      ]
     },
     "execution_count": 21,
     "metadata": {},
     "output_type": "execute_result"
    }
   ],
   "source": [
    "df_final.shape"
   ]
  },
  {
   "cell_type": "markdown",
   "id": "5f94d7de",
   "metadata": {},
   "source": [
    "# Re-aranging order of columns"
   ]
  },
  {
   "cell_type": "code",
   "execution_count": 22,
   "id": "1a4eaa7b",
   "metadata": {},
   "outputs": [],
   "source": [
    "df_final = df_final.iloc[:,[0,1,6,7,8,9,2,3,4,5]]"
   ]
  },
  {
   "cell_type": "code",
   "execution_count": 24,
   "id": "f2e053cb",
   "metadata": {},
   "outputs": [
    {
     "data": {
      "text/html": [
       "<div>\n",
       "<style scoped>\n",
       "    .dataframe tbody tr th:only-of-type {\n",
       "        vertical-align: middle;\n",
       "    }\n",
       "\n",
       "    .dataframe tbody tr th {\n",
       "        vertical-align: top;\n",
       "    }\n",
       "\n",
       "    .dataframe thead th {\n",
       "        text-align: right;\n",
       "    }\n",
       "</style>\n",
       "<table border=\"1\" class=\"dataframe\">\n",
       "  <thead>\n",
       "    <tr style=\"text-align: right;\">\n",
       "      <th></th>\n",
       "      <th>type</th>\n",
       "      <th>title</th>\n",
       "      <th>Cast</th>\n",
       "      <th>Director</th>\n",
       "      <th>genre</th>\n",
       "      <th>country</th>\n",
       "      <th>date_added</th>\n",
       "      <th>release_year</th>\n",
       "      <th>rating</th>\n",
       "      <th>duration</th>\n",
       "    </tr>\n",
       "  </thead>\n",
       "  <tbody>\n",
       "    <tr>\n",
       "      <th>0</th>\n",
       "      <td>Movie</td>\n",
       "      <td>Dick Johnson Is Dead</td>\n",
       "      <td>nan</td>\n",
       "      <td>Kirsten Johnson</td>\n",
       "      <td>Documentaries</td>\n",
       "      <td>United States</td>\n",
       "      <td>September 25, 2021</td>\n",
       "      <td>2020</td>\n",
       "      <td>PG-13</td>\n",
       "      <td>90 min</td>\n",
       "    </tr>\n",
       "    <tr>\n",
       "      <th>1</th>\n",
       "      <td>TV Show</td>\n",
       "      <td>Blood &amp; Water</td>\n",
       "      <td>Ama Qamata</td>\n",
       "      <td>nan</td>\n",
       "      <td>International TV Shows</td>\n",
       "      <td>South Africa</td>\n",
       "      <td>September 24, 2021</td>\n",
       "      <td>2021</td>\n",
       "      <td>TV-MA</td>\n",
       "      <td>2 Seasons</td>\n",
       "    </tr>\n",
       "    <tr>\n",
       "      <th>2</th>\n",
       "      <td>TV Show</td>\n",
       "      <td>Blood &amp; Water</td>\n",
       "      <td>Ama Qamata</td>\n",
       "      <td>nan</td>\n",
       "      <td>TV Dramas</td>\n",
       "      <td>South Africa</td>\n",
       "      <td>September 24, 2021</td>\n",
       "      <td>2021</td>\n",
       "      <td>TV-MA</td>\n",
       "      <td>2 Seasons</td>\n",
       "    </tr>\n",
       "    <tr>\n",
       "      <th>3</th>\n",
       "      <td>TV Show</td>\n",
       "      <td>Blood &amp; Water</td>\n",
       "      <td>Ama Qamata</td>\n",
       "      <td>nan</td>\n",
       "      <td>TV Mysteries</td>\n",
       "      <td>South Africa</td>\n",
       "      <td>September 24, 2021</td>\n",
       "      <td>2021</td>\n",
       "      <td>TV-MA</td>\n",
       "      <td>2 Seasons</td>\n",
       "    </tr>\n",
       "    <tr>\n",
       "      <th>4</th>\n",
       "      <td>TV Show</td>\n",
       "      <td>Blood &amp; Water</td>\n",
       "      <td>Khosi Ngema</td>\n",
       "      <td>nan</td>\n",
       "      <td>International TV Shows</td>\n",
       "      <td>South Africa</td>\n",
       "      <td>September 24, 2021</td>\n",
       "      <td>2021</td>\n",
       "      <td>TV-MA</td>\n",
       "      <td>2 Seasons</td>\n",
       "    </tr>\n",
       "  </tbody>\n",
       "</table>\n",
       "</div>"
      ],
      "text/plain": [
       "      type                 title          Cast         Director  \\\n",
       "0    Movie  Dick Johnson Is Dead           nan  Kirsten Johnson   \n",
       "1  TV Show         Blood & Water    Ama Qamata              nan   \n",
       "2  TV Show         Blood & Water    Ama Qamata              nan   \n",
       "3  TV Show         Blood & Water    Ama Qamata              nan   \n",
       "4  TV Show         Blood & Water   Khosi Ngema              nan   \n",
       "\n",
       "                    genre        country          date_added  release_year  \\\n",
       "0           Documentaries  United States  September 25, 2021          2020   \n",
       "1  International TV Shows   South Africa  September 24, 2021          2021   \n",
       "2               TV Dramas   South Africa  September 24, 2021          2021   \n",
       "3            TV Mysteries   South Africa  September 24, 2021          2021   \n",
       "4  International TV Shows   South Africa  September 24, 2021          2021   \n",
       "\n",
       "  rating   duration  \n",
       "0  PG-13     90 min  \n",
       "1  TV-MA  2 Seasons  \n",
       "2  TV-MA  2 Seasons  \n",
       "3  TV-MA  2 Seasons  \n",
       "4  TV-MA  2 Seasons  "
      ]
     },
     "execution_count": 24,
     "metadata": {},
     "output_type": "execute_result"
    }
   ],
   "source": [
    "df_final.head()"
   ]
  },
  {
   "cell_type": "markdown",
   "id": "cc98e132",
   "metadata": {},
   "source": [
    "# Percentage of missing values for each columns"
   ]
  },
  {
   "cell_type": "code",
   "execution_count": 25,
   "id": "b7aea056",
   "metadata": {},
   "outputs": [
    {
     "data": {
      "text/plain": [
       "date_added      0.078193\n",
       "rating          0.033158\n",
       "duration        0.001485\n",
       "type            0.000000\n",
       "title           0.000000\n",
       "Cast            0.000000\n",
       "Director        0.000000\n",
       "genre           0.000000\n",
       "country         0.000000\n",
       "release_year    0.000000\n",
       "dtype: float64"
      ]
     },
     "execution_count": 25,
     "metadata": {},
     "output_type": "execute_result"
    }
   ],
   "source": [
    "(df_final.isna().sum()*100/df_final.shape[0]).sort_values(ascending = False)"
   ]
  },
  {
   "cell_type": "markdown",
   "id": "e85d86e8",
   "metadata": {},
   "source": [
    "# From above code we can see that many columns has zero missing value in column but they have values nan in columns which means those are in string format\n",
    "# Finding 'nan' in columns and replacing them with np.nan"
   ]
  },
  {
   "cell_type": "markdown",
   "id": "4950f7e2",
   "metadata": {},
   "source": [
    "# Replacing 'nan' with np.nan in 'Cast'"
   ]
  },
  {
   "cell_type": "code",
   "execution_count": 26,
   "id": "b8e0f1a8",
   "metadata": {},
   "outputs": [],
   "source": [
    "def func(value):\n",
    "    if value == 'nan':\n",
    "        return np.nan\n",
    "    else:\n",
    "        return value\n",
    "df_final['Cast'] = df_final['Cast'].apply(func)"
   ]
  },
  {
   "cell_type": "markdown",
   "id": "283899b5",
   "metadata": {},
   "source": [
    "# Replacing 'nan' with np.nan in 'Director'"
   ]
  },
  {
   "cell_type": "code",
   "execution_count": 27,
   "id": "5bc0bf4b",
   "metadata": {},
   "outputs": [],
   "source": [
    "def fun(value):\n",
    "    if value == 'nan':\n",
    "        return np.nan\n",
    "    else:\n",
    "        return value\n",
    "df_final['Director'] = df_final['Director'].apply(fun)"
   ]
  },
  {
   "cell_type": "markdown",
   "id": "0515bf57",
   "metadata": {},
   "source": [
    "# Replacing 'nan' with np.nan in 'genre'"
   ]
  },
  {
   "cell_type": "code",
   "execution_count": 28,
   "id": "9b43a752",
   "metadata": {},
   "outputs": [],
   "source": [
    "def fun(value):\n",
    "    if value == 'nan':\n",
    "        return np.nan\n",
    "    else:\n",
    "        return value\n",
    "df_final['genre'] = df_final['genre'].apply(fun)"
   ]
  },
  {
   "cell_type": "markdown",
   "id": "bb6b73b6",
   "metadata": {},
   "source": [
    "# Replacing 'nan' with np.nan in 'country'"
   ]
  },
  {
   "cell_type": "code",
   "execution_count": 29,
   "id": "37eb7a58",
   "metadata": {},
   "outputs": [],
   "source": [
    "def func(value):\n",
    "    if value == 'nan':\n",
    "        return np.nan\n",
    "    else:\n",
    "        return value\n",
    "df_final['country'] = df_final['country'].apply(func)"
   ]
  },
  {
   "cell_type": "markdown",
   "id": "cf68d645",
   "metadata": {},
   "source": [
    "# Checking for missing value percentage again "
   ]
  },
  {
   "cell_type": "code",
   "execution_count": 30,
   "id": "56cb881c",
   "metadata": {},
   "outputs": [
    {
     "data": {
      "text/plain": [
       "Director        25.062727\n",
       "country          5.887709\n",
       "Cast             1.063519\n",
       "date_added       0.078193\n",
       "rating           0.033158\n",
       "duration         0.001485\n",
       "type             0.000000\n",
       "title            0.000000\n",
       "genre            0.000000\n",
       "release_year     0.000000\n",
       "dtype: float64"
      ]
     },
     "execution_count": 30,
     "metadata": {},
     "output_type": "execute_result"
    }
   ],
   "source": [
    "(df_final.isna().sum()*100/df_final.shape[0]).sort_values(ascending = False)"
   ]
  },
  {
   "cell_type": "markdown",
   "id": "5d43cb2e",
   "metadata": {},
   "source": [
    "# Dealing with Missing Values and Replacing NaN with mode value of respective Column"
   ]
  },
  {
   "cell_type": "code",
   "execution_count": 31,
   "id": "23842a73",
   "metadata": {},
   "outputs": [],
   "source": [
    "df_final['Cast'] = df_final['Cast'].fillna(df_final['Cast'].mode()[0])\n",
    "df_final['Director'] = df_final['Director'].fillna(df_final['Director'].mode()[0])\n",
    "df_final['date_added'] = df_final['date_added'].fillna(df_final['date_added'].mode()[0])\n",
    "df_final['rating'] = df_final['rating'].fillna(df_final['rating'].mode()[0])\n",
    "df_final['duration'] = df_final['duration'].fillna(df_final['duration'].mode()[0])\n",
    "df_final['country'] = df_final['country'].fillna(df_final['country'].mode()[0])"
   ]
  },
  {
   "cell_type": "markdown",
   "id": "9f169e46",
   "metadata": {},
   "source": [
    "# Re-checking missing values after fixing them"
   ]
  },
  {
   "cell_type": "code",
   "execution_count": 32,
   "id": "1d23919d",
   "metadata": {},
   "outputs": [
    {
     "data": {
      "text/plain": [
       "type            0.0\n",
       "title           0.0\n",
       "Cast            0.0\n",
       "Director        0.0\n",
       "genre           0.0\n",
       "country         0.0\n",
       "date_added      0.0\n",
       "release_year    0.0\n",
       "rating          0.0\n",
       "duration        0.0\n",
       "dtype: float64"
      ]
     },
     "execution_count": 32,
     "metadata": {},
     "output_type": "execute_result"
    }
   ],
   "source": [
    "(df_final.isna().sum()*100/df_final.shape[0]).sort_values(ascending = False)"
   ]
  },
  {
   "cell_type": "markdown",
   "id": "39a8029b",
   "metadata": {},
   "source": [
    "# Fixing rating columns with useable values and converting datatype to integers"
   ]
  },
  {
   "cell_type": "code",
   "execution_count": 33,
   "id": "b8faefd1",
   "metadata": {},
   "outputs": [
    {
     "data": {
      "text/plain": [
       "array(['PG-13', 'TV-MA', 'PG', 'TV-14', 'TV-PG', 'TV-Y', 'TV-Y7', 'R',\n",
       "       'TV-G', 'G', 'NC-17', '74 min', '84 min', '66 min', 'NR',\n",
       "       'TV-Y7-FV', 'UR'], dtype=object)"
      ]
     },
     "execution_count": 33,
     "metadata": {},
     "output_type": "execute_result"
    }
   ],
   "source": [
    "df_final['rating'].unique()"
   ]
  },
  {
   "cell_type": "code",
   "execution_count": 34,
   "id": "12ab1584",
   "metadata": {},
   "outputs": [],
   "source": [
    "def fun(x):\n",
    "    if x == '74 min' or x == '84 min' or x == '66 min':\n",
    "        return 'normal'\n",
    "    else:\n",
    "        return x\n",
    "df_final['rating'] = df_final['rating'].apply(fun)"
   ]
  },
  {
   "cell_type": "code",
   "execution_count": 35,
   "id": "b66f091b",
   "metadata": {},
   "outputs": [
    {
     "data": {
      "text/plain": [
       "array(['PG-13', 'TV-MA', 'PG', 'TV-14', 'TV-PG', 'TV-Y', 'TV-Y7', 'R',\n",
       "       'TV-G', 'G', 'NC-17', 'normal', 'NR', 'TV-Y7-FV', 'UR'],\n",
       "      dtype=object)"
      ]
     },
     "execution_count": 35,
     "metadata": {},
     "output_type": "execute_result"
    }
   ],
   "source": [
    "df_final['rating'].unique()"
   ]
  },
  {
   "cell_type": "markdown",
   "id": "0ebcb06e",
   "metadata": {},
   "source": [
    "# Fixing duration columns with useable values and converting datatype to integers ease in calculation"
   ]
  },
  {
   "cell_type": "code",
   "execution_count": 38,
   "id": "8766977f",
   "metadata": {},
   "outputs": [],
   "source": [
    "def fun(x):\n",
    "    return str(x).split()[0]\n",
    "df_final['duration'] = df_final['duration'].apply(fun)\n",
    "convert_dict = {'duration': int}\n",
    "df_final = df_final.astype(convert_dict)"
   ]
  },
  {
   "cell_type": "code",
   "execution_count": 39,
   "id": "74a5e99c",
   "metadata": {},
   "outputs": [
    {
     "data": {
      "text/plain": [
       "0          90\n",
       "1           2\n",
       "2           2\n",
       "3           2\n",
       "4           2\n",
       "         ... \n",
       "202060    111\n",
       "202061    111\n",
       "202062    111\n",
       "202063    111\n",
       "202064    111\n",
       "Name: duration, Length: 202065, dtype: int32"
      ]
     },
     "execution_count": 39,
     "metadata": {},
     "output_type": "execute_result"
    }
   ],
   "source": [
    "df_final['duration']"
   ]
  },
  {
   "cell_type": "markdown",
   "id": "796f999f",
   "metadata": {},
   "source": [
    "# Changing datatype of date_added columns"
   ]
  },
  {
   "cell_type": "code",
   "execution_count": 40,
   "id": "03c0d467",
   "metadata": {},
   "outputs": [],
   "source": [
    "df_final['date_added'] = pd.to_datetime(df_final['date_added'])"
   ]
  },
  {
   "cell_type": "markdown",
   "id": "34816f68",
   "metadata": {},
   "source": [
    "# Checking Distribution of content month wise for India  "
   ]
  },
  {
   "cell_type": "code",
   "execution_count": 52,
   "id": "640565d4",
   "metadata": {},
   "outputs": [
    {
     "data": {
      "text/html": [
       "<div>\n",
       "<style scoped>\n",
       "    .dataframe tbody tr th:only-of-type {\n",
       "        vertical-align: middle;\n",
       "    }\n",
       "\n",
       "    .dataframe tbody tr th {\n",
       "        vertical-align: top;\n",
       "    }\n",
       "\n",
       "    .dataframe thead th {\n",
       "        text-align: right;\n",
       "    }\n",
       "</style>\n",
       "<table border=\"1\" class=\"dataframe\">\n",
       "  <thead>\n",
       "    <tr style=\"text-align: right;\">\n",
       "      <th></th>\n",
       "      <th>index</th>\n",
       "      <th>country</th>\n",
       "      <th>title</th>\n",
       "      <th>date_added</th>\n",
       "    </tr>\n",
       "  </thead>\n",
       "  <tbody>\n",
       "    <tr>\n",
       "      <th>0</th>\n",
       "      <td>87</td>\n",
       "      <td>India</td>\n",
       "      <td>Kota Factory</td>\n",
       "      <td>2021-09-24</td>\n",
       "    </tr>\n",
       "    <tr>\n",
       "      <th>1</th>\n",
       "      <td>88</td>\n",
       "      <td>India</td>\n",
       "      <td>Kota Factory</td>\n",
       "      <td>2021-09-24</td>\n",
       "    </tr>\n",
       "    <tr>\n",
       "      <th>2</th>\n",
       "      <td>89</td>\n",
       "      <td>India</td>\n",
       "      <td>Kota Factory</td>\n",
       "      <td>2021-09-24</td>\n",
       "    </tr>\n",
       "    <tr>\n",
       "      <th>3</th>\n",
       "      <td>90</td>\n",
       "      <td>India</td>\n",
       "      <td>Kota Factory</td>\n",
       "      <td>2021-09-24</td>\n",
       "    </tr>\n",
       "    <tr>\n",
       "      <th>4</th>\n",
       "      <td>91</td>\n",
       "      <td>India</td>\n",
       "      <td>Kota Factory</td>\n",
       "      <td>2021-09-24</td>\n",
       "    </tr>\n",
       "    <tr>\n",
       "      <th>...</th>\n",
       "      <td>...</td>\n",
       "      <td>...</td>\n",
       "      <td>...</td>\n",
       "      <td>...</td>\n",
       "    </tr>\n",
       "    <tr>\n",
       "      <th>22134</th>\n",
       "      <td>202060</td>\n",
       "      <td>India</td>\n",
       "      <td>Zubaan</td>\n",
       "      <td>2019-03-02</td>\n",
       "    </tr>\n",
       "    <tr>\n",
       "      <th>22135</th>\n",
       "      <td>202061</td>\n",
       "      <td>India</td>\n",
       "      <td>Zubaan</td>\n",
       "      <td>2019-03-02</td>\n",
       "    </tr>\n",
       "    <tr>\n",
       "      <th>22136</th>\n",
       "      <td>202062</td>\n",
       "      <td>India</td>\n",
       "      <td>Zubaan</td>\n",
       "      <td>2019-03-02</td>\n",
       "    </tr>\n",
       "    <tr>\n",
       "      <th>22137</th>\n",
       "      <td>202063</td>\n",
       "      <td>India</td>\n",
       "      <td>Zubaan</td>\n",
       "      <td>2019-03-02</td>\n",
       "    </tr>\n",
       "    <tr>\n",
       "      <th>22138</th>\n",
       "      <td>202064</td>\n",
       "      <td>India</td>\n",
       "      <td>Zubaan</td>\n",
       "      <td>2019-03-02</td>\n",
       "    </tr>\n",
       "  </tbody>\n",
       "</table>\n",
       "<p>22139 rows × 4 columns</p>\n",
       "</div>"
      ],
      "text/plain": [
       "        index country         title date_added\n",
       "0          87   India  Kota Factory 2021-09-24\n",
       "1          88   India  Kota Factory 2021-09-24\n",
       "2          89   India  Kota Factory 2021-09-24\n",
       "3          90   India  Kota Factory 2021-09-24\n",
       "4          91   India  Kota Factory 2021-09-24\n",
       "...       ...     ...           ...        ...\n",
       "22134  202060   India        Zubaan 2019-03-02\n",
       "22135  202061   India        Zubaan 2019-03-02\n",
       "22136  202062   India        Zubaan 2019-03-02\n",
       "22137  202063   India        Zubaan 2019-03-02\n",
       "22138  202064   India        Zubaan 2019-03-02\n",
       "\n",
       "[22139 rows x 4 columns]"
      ]
     },
     "execution_count": 52,
     "metadata": {},
     "output_type": "execute_result"
    }
   ],
   "source": [
    "content_per_month = df_final.loc[df_final['country'] == 'India',['country','title','date_added']].reset_index()\n",
    "content_per_month"
   ]
  },
  {
   "cell_type": "markdown",
   "id": "be2b23f8",
   "metadata": {},
   "source": [
    "# Reccommendation.\n",
    "# Count of Content is higher in month of December while is relativly less around may-june so this can be interchanged as around december academic sessions are usually moving towards exams while may-june are supposed to be holidays "
   ]
  },
  {
   "cell_type": "code",
   "execution_count": 56,
   "id": "e21d2b7a",
   "metadata": {},
   "outputs": [
    {
     "data": {
      "text/plain": [
       "<AxesSubplot:xlabel='date_added'>"
      ]
     },
     "execution_count": 56,
     "metadata": {},
     "output_type": "execute_result"
    },
    {
     "data": {
      "image/png": "[encoded data removed]",
      "text/plain": [
       "<Figure size 432x288 with 1 Axes>"
      ]
     },
     "metadata": {
      "needs_background": "light"
     },
     "output_type": "display_data"
    }
   ],
   "source": [
    "content_distribution_by_month = content_per_month.groupby(content_per_month['date_added'].dt.month)['title'].nunique()\n",
    "content_distribution_by_month.plot()"
   ]
  },
  {
   "cell_type": "markdown",
   "id": "74404a93",
   "metadata": {},
   "source": [
    "# Insight\n",
    "# count of content per year has shown an increasing trend from 2008 to 2020 then a slight fall but overall it was increasing"
   ]
  },
  {
   "cell_type": "code",
   "execution_count": 57,
   "id": "7764c7ac",
   "metadata": {},
   "outputs": [
    {
     "data": {
      "text/plain": [
       "<AxesSubplot:xlabel='date_added'>"
      ]
     },
     "execution_count": 57,
     "metadata": {},
     "output_type": "execute_result"
    },
    {
     "data": {
      "image/png": "[encoded data removed]",
      "text/plain": [
       "<Figure size 432x288 with 1 Axes>"
      ]
     },
     "metadata": {
      "needs_background": "light"
     },
     "output_type": "display_data"
    }
   ],
   "source": [
    "content_per_year = df_final.groupby(df_final['date_added'].dt.year)['title'].nunique()\n",
    "content_per_year.plot()"
   ]
  },
  {
   "cell_type": "markdown",
   "id": "4333ffe5",
   "metadata": {},
   "source": [
    "# Insight\n",
    "# average watch time for movies is 106.83 min while average watch time for TV show is 1.92 season"
   ]
  },
  {
   "cell_type": "code",
   "execution_count": 58,
   "id": "d3422206",
   "metadata": {},
   "outputs": [
    {
     "data": {
      "text/plain": [
       "type\n",
       "Movie      106.838209\n",
       "TV Show      1.928101\n",
       "Name: duration, dtype: float64"
      ]
     },
     "execution_count": 58,
     "metadata": {},
     "output_type": "execute_result"
    }
   ],
   "source": [
    "df_final.groupby(df_final['type'])['duration'].mean()"
   ]
  },
  {
   "cell_type": "markdown",
   "id": "311d783d",
   "metadata": {},
   "source": [
    "# Insights.\n",
    "# Netflix has more content in form of movies for which average duration is 106 min while TV show has average duration is 1.92 seasons \n",
    "\n",
    "# Reccommendations.\n",
    "# Netflix should give emphasis on increasing TV shows as they have season so if someone watches a season they will give more time Netflix as compare to movies hence increses Watch hours"
   ]
  },
  {
   "cell_type": "code",
   "execution_count": 115,
   "id": "34b0f120",
   "metadata": {},
   "outputs": [
    {
     "data": {
      "text/plain": [
       "<AxesSubplot:xlabel='type', ylabel='count'>"
      ]
     },
     "execution_count": 115,
     "metadata": {},
     "output_type": "execute_result"
    },
    {
     "data": {
      "image/png": "[encoded data removed]",
      "text/plain": [
       "<Figure size 1440x720 with 1 Axes>"
      ]
     },
     "metadata": {},
     "output_type": "display_data"
    }
   ],
   "source": [
    "sns.countplot(x ='type', data = df_final)\n"
   ]
  },
  {
   "cell_type": "markdown",
   "id": "59e331b0",
   "metadata": {},
   "source": [
    "# Insight\n",
    "# count of content per year has shown an increasing trend from 2008 to 2020 then a slight fall but overall it was increasing"
   ]
  },
  {
   "cell_type": "code",
   "execution_count": 73,
   "id": "d45d26a2",
   "metadata": {},
   "outputs": [
    {
     "data": {
      "text/plain": [
       "Text(0.5, 1.0, 'Number of Movies or shows per year')"
      ]
     },
     "execution_count": 73,
     "metadata": {},
     "output_type": "execute_result"
    },
    {
     "data": {
      "image/png": "[encoded data removed]",
      "text/plain": [
       "<Figure size 576x360 with 1 Axes>"
      ]
     },
     "metadata": {
      "needs_background": "light"
     },
     "output_type": "display_data"
    }
   ],
   "source": [
    "content_per_year = df_final.groupby(df_final['date_added'].dt.year)['title'].nunique()\n",
    "a = content_per_year.reset_index()\n",
    "plt.figure(figsize=(8,5))\n",
    "plt.bar(a['date_added'],a['title'])\n",
    "plt.xticks(rotation=90, fontsize=10)\n",
    "plt.xlabel(\"Year\", fontsize=12)\n",
    "plt.ylabel(\"Count\", fontsize=12)\n",
    "plt.title(\"Number of Movies or shows per year\")"
   ]
  },
  {
   "cell_type": "markdown",
   "id": "5a564d5e",
   "metadata": {},
   "source": [
    "# INSIGHT.\n",
    "# Maximum Content present on netflix is from International movie genre followed by Dramas and the Comedy \n",
    "\n",
    "# RECCOMMENDATION.\n",
    "# There are very less Content from Sci-Fi and Romantic movies which are very popular genre and has a huge fan base so netflix should add these genre into its list\n"
   ]
  },
  {
   "cell_type": "code",
   "execution_count": 78,
   "id": "08810634",
   "metadata": {},
   "outputs": [
    {
     "data": {
      "text/plain": [
       "Text(0.5, 1.0, 'Number of Movies or shows per genre')"
      ]
     },
     "execution_count": 78,
     "metadata": {},
     "output_type": "execute_result"
    },
    {
     "data": {
      "image/png": "[encoded data removed]",
      "text/plain": [
       "<Figure size 576x360 with 1 Axes>"
      ]
     },
     "metadata": {
      "needs_background": "light"
     },
     "output_type": "display_data"
    }
   ],
   "source": [
    "content_by_genre = df_final.groupby(df_final['genre'])['title'].nunique().sort_values(ascending = False).reset_index()\n",
    "content_by_genre.head(10)\n",
    "plt.figure(figsize=(8,5))\n",
    "plt.bar(content_by_genre['genre'][:10],content_by_genre['title'][:10])\n",
    "plt.xticks(rotation=90, fontsize=10)\n",
    "plt.xlabel(\"Genre\", fontsize=12)\n",
    "plt.ylabel(\"Count\", fontsize=12)\n",
    "plt.title(\"Number of Movies or shows per genre\")"
   ]
  },
  {
   "cell_type": "code",
   "execution_count": null,
   "id": "82c40811",
   "metadata": {},
   "outputs": [],
   "source": []
  },
  {
   "cell_type": "markdown",
   "id": "75cd8c5d",
   "metadata": {},
   "source": [
    "# Insight\n",
    "# Netflix has maximum content of rating TV-MA(For Mature Audiences) and   followed by TV-14(Parents strongly cautioned. May not be suitable for ages under 14.)\n",
    "# Reccomendation\n",
    "# Netflix should bring some kids friendly content in order to gain more traffic,kids do watch and other stuff so if kids frirndly content is available on Netflix then they will definitly use it. \n",
    "# Refrence- https://help.netflix.com/en/node/2064/us(for understanding rating legends)"
   ]
  },
  {
   "cell_type": "code",
   "execution_count": 88,
   "id": "cc62a76b",
   "metadata": {},
   "outputs": [
    {
     "data": {
      "image/png": "[encoded data removed]",
      "text/plain": [
       "<Figure size 1440x720 with 1 Axes>"
      ]
     },
     "metadata": {},
     "output_type": "display_data"
    }
   ],
   "source": [
    "sns.set(rc={'figure.figsize':(20,10)})\n",
    "sns.countplot(x ='rating', data = df_final)\n",
    "plt.xticks(rotation=90)\n",
    "plt.show()"
   ]
  },
  {
   "cell_type": "markdown",
   "id": "5a53013a",
   "metadata": {},
   "source": [
    "# Distribution of Content country wise \n",
    "# Insights\n",
    "# India has Comedy movies but comedy TV shows count is neglegible same is visible with USA and if we Consider Japan sp japan has content from very few catagories \n",
    "# Reccommendation \n",
    "# Neflix must increase content genre wise in order to engage more and more traffic"
   ]
  },
  {
   "cell_type": "code",
   "execution_count": 108,
   "id": "9e57a8d6",
   "metadata": {},
   "outputs": [
    {
     "data": {
      "text/plain": [
       "<AxesSubplot:xlabel='country', ylabel='title'>"
      ]
     },
     "execution_count": 108,
     "metadata": {},
     "output_type": "execute_result"
    },
    {
     "data": {
      "image/png": "[encoded data removed]",
      "text/plain": [
       "<Figure size 1440x720 with 1 Axes>"
      ]
     },
     "metadata": {},
     "output_type": "display_data"
    }
   ],
   "source": [
    "a = df_final.groupby(['country','genre'])['title'].count().sort_values(ascending = False).reset_index().head(20)\n",
    "sns.set(rc={'figure.figsize':(20,10)})\n",
    "sns.barplot(x='country',y='title',hue='genre',data=a)\n"
   ]
  },
  {
   "cell_type": "code",
   "execution_count": null,
   "id": "6621ce3d",
   "metadata": {},
   "outputs": [],
   "source": []
  },
  {
   "cell_type": "code",
   "execution_count": null,
   "id": "6ed80727",
   "metadata": {},
   "outputs": [],
   "source": []
  }
 ],
 "metadata": {
  "kernelspec": {
   "display_name": "Python 3 (ipykernel)",
   "language": "python",
   "name": "python3"
  },
  "language_info": {
   "codemirror_mode": {
    "name": "ipython",
    "version": 3
   },
   "file_extension": ".py",
   "mimetype": "text/x-python",
   "name": "python",
   "nbconvert_exporter": "python",
   "pygments_lexer": "ipython3",
   "version": "3.9.12"
  }
 },
 "nbformat": 4,
 "nbformat_minor": 5
}
